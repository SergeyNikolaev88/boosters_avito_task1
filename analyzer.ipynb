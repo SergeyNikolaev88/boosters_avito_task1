{
 "cells": [
  {
   "cell_type": "markdown",
   "metadata": {},
   "source": [
    "# Обработка данных"
   ]
  },
  {
   "cell_type": "code",
   "execution_count": 1,
   "metadata": {
    "collapsed": true
   },
   "outputs": [],
   "source": [
    "import pandas as pd\n",
    "\n",
    "from statsmodels.stats.proportion import proportion_confint\n",
    "\n",
    "pd.set_option('display.max_colwidth', 200)"
   ]
  },
  {
   "cell_type": "code",
   "execution_count": 2,
   "metadata": {
    "collapsed": false
   },
   "outputs": [
    {
     "data": {
      "text/plain": [
       "(9743, 6)"
      ]
     },
     "execution_count": 2,
     "metadata": {},
     "output_type": "execute_result"
    }
   ],
   "source": [
    "coins = pd.read_json('coins_count/coins_from_avito.json')\n",
    "coins.shape"
   ]
  },
  {
   "cell_type": "code",
   "execution_count": 3,
   "metadata": {
    "collapsed": false
   },
   "outputs": [
    {
     "data": {
      "text/html": [
       "<div>\n",
       "<table border=\"1\" class=\"dataframe\">\n",
       "  <thead>\n",
       "    <tr style=\"text-align: right;\">\n",
       "      <th></th>\n",
       "      <th>descr</th>\n",
       "      <th>number</th>\n",
       "      <th>title_text</th>\n",
       "      <th>year</th>\n",
       "      <th>year_text</th>\n",
       "      <th>year_title</th>\n",
       "    </tr>\n",
       "  </thead>\n",
       "  <tbody>\n",
       "    <tr>\n",
       "      <th>count</th>\n",
       "      <td>9743</td>\n",
       "      <td>9743</td>\n",
       "      <td>9743</td>\n",
       "      <td>9743</td>\n",
       "      <td>9743</td>\n",
       "      <td>9743</td>\n",
       "    </tr>\n",
       "    <tr>\n",
       "      <th>unique</th>\n",
       "      <td>7803</td>\n",
       "      <td>9737</td>\n",
       "      <td>9187</td>\n",
       "      <td>345</td>\n",
       "      <td>324</td>\n",
       "      <td>310</td>\n",
       "    </tr>\n",
       "    <tr>\n",
       "      <th>top</th>\n",
       "      <td>unknown</td>\n",
       "      <td>unknown</td>\n",
       "      <td>Монеты</td>\n",
       "      <td>unknown</td>\n",
       "      <td>unknown</td>\n",
       "      <td>unknown</td>\n",
       "    </tr>\n",
       "    <tr>\n",
       "      <th>freq</th>\n",
       "      <td>1380</td>\n",
       "      <td>7</td>\n",
       "      <td>100</td>\n",
       "      <td>2342</td>\n",
       "      <td>4995</td>\n",
       "      <td>3906</td>\n",
       "    </tr>\n",
       "  </tbody>\n",
       "</table>\n",
       "</div>"
      ],
      "text/plain": [
       "          descr   number title_text     year year_text year_title\n",
       "count      9743     9743       9743     9743      9743       9743\n",
       "unique     7803     9737       9187      345       324        310\n",
       "top     unknown  unknown     Монеты  unknown   unknown    unknown\n",
       "freq       1380        7        100     2342      4995       3906"
      ]
     },
     "execution_count": 3,
     "metadata": {},
     "output_type": "execute_result"
    }
   ],
   "source": [
    "coins.describe()"
   ]
  },
  {
   "cell_type": "code",
   "execution_count": 8,
   "metadata": {
    "collapsed": false
   },
   "outputs": [
    {
     "data": {
      "text/html": [
       "<div>\n",
       "<table border=\"1\" class=\"dataframe\">\n",
       "  <thead>\n",
       "    <tr style=\"text-align: right;\">\n",
       "      <th></th>\n",
       "      <th>descr</th>\n",
       "      <th>number</th>\n",
       "      <th>title_text</th>\n",
       "      <th>year</th>\n",
       "      <th>year_text</th>\n",
       "      <th>year_title</th>\n",
       "    </tr>\n",
       "  </thead>\n",
       "  <tbody>\n",
       "    <tr>\n",
       "      <th>0</th>\n",
       "      <td>футбол чемпионат мира   мешковые от 10 шт  .</td>\n",
       "      <td>912846108</td>\n",
       "      <td>Футбол чемпионат мира 25 р мешковые</td>\n",
       "      <td>unknown</td>\n",
       "      <td>unknown</td>\n",
       "      <td>unknown</td>\n",
       "    </tr>\n",
       "    <tr>\n",
       "      <th>1</th>\n",
       "      <td>есть  убль ленин в лучах пруф(стародел) 1982г в банковской запайке нужно красная книга 1992г кобра красная книга 1993г-все кроме зублефара красная книга 1994г-все другие староделы  в банковской з...</td>\n",
       "      <td>862041824</td>\n",
       "      <td>1 рубль СССР пруф стародел -обмен</td>\n",
       "      <td>1982</td>\n",
       "      <td>1982</td>\n",
       "      <td>unknown</td>\n",
       "    </tr>\n",
       "    <tr>\n",
       "      <th>2</th>\n",
       "      <td>unknown</td>\n",
       "      <td>883605717</td>\n",
       "      <td>Копейки СССР</td>\n",
       "      <td>unknown</td>\n",
       "      <td>unknown</td>\n",
       "      <td>unknown</td>\n",
       "    </tr>\n",
       "    <tr>\n",
       "      <th>3</th>\n",
       "      <td>5 лей 1942 zn аверс: корона реверс: колоски</td>\n",
       "      <td>771217101</td>\n",
       "      <td>5 лей 1942 Zn Аверс</td>\n",
       "      <td>1942</td>\n",
       "      <td>1942</td>\n",
       "      <td>1942</td>\n",
       "    </tr>\n",
       "    <tr>\n",
       "      <th>4</th>\n",
       "      <td>1 грош 1627 год(польша)- уб 4 пфенинга 1826 год(германия)- уб 16 скилингов 1856 год(дания)- уб 1 зильбергрош 1873 год(пруссия)- уб 4 пенса 1840 год(великобритоания)- уб 4 пенса 1854 год - уб 3 пе...</td>\n",
       "      <td>879421663</td>\n",
       "      <td>Монеты-пенсы, франки, шиллинги, доллары и др</td>\n",
       "      <td>1627</td>\n",
       "      <td>1627</td>\n",
       "      <td>unknown</td>\n",
       "    </tr>\n",
       "  </tbody>\n",
       "</table>\n",
       "</div>"
      ],
      "text/plain": [
       "                                                                                                                                                                                                     descr  \\\n",
       "0                                                                                                                                                            футбол чемпионат мира   мешковые от 10 шт  .    \n",
       "1   есть  убль ленин в лучах пруф(стародел) 1982г в банковской запайке нужно красная книга 1992г кобра красная книга 1993г-все кроме зублефара красная книга 1994г-все другие староделы  в банковской з...   \n",
       "2                                                                                                                                                                                                  unknown   \n",
       "3                                                                                                                                                             5 лей 1942 zn аверс: корона реверс: колоски    \n",
       "4   1 грош 1627 год(польша)- уб 4 пфенинга 1826 год(германия)- уб 16 скилингов 1856 год(дания)- уб 1 зильбергрош 1873 год(пруссия)- уб 4 пенса 1840 год(великобритоания)- уб 4 пенса 1854 год - уб 3 пе...   \n",
       "\n",
       "      number                                    title_text     year year_text  \\\n",
       "0  912846108           Футбол чемпионат мира 25 р мешковые  unknown   unknown   \n",
       "1  862041824             1 рубль СССР пруф стародел -обмен     1982      1982   \n",
       "2  883605717                                  Копейки СССР  unknown   unknown   \n",
       "3  771217101                           5 лей 1942 Zn Аверс     1942      1942   \n",
       "4  879421663  Монеты-пенсы, франки, шиллинги, доллары и др     1627      1627   \n",
       "\n",
       "  year_title  \n",
       "0    unknown  \n",
       "1    unknown  \n",
       "2    unknown  \n",
       "3       1942  \n",
       "4    unknown  "
      ]
     },
     "execution_count": 8,
     "metadata": {},
     "output_type": "execute_result"
    }
   ],
   "source": [
    "coins.head()"
   ]
  },
  {
   "cell_type": "code",
   "execution_count": 16,
   "metadata": {
    "collapsed": false
   },
   "outputs": [
    {
     "name": "stdout",
     "output_type": "stream",
     "text": [
      "Share of unknown coins 0.2404, ratio 1.3354\n",
      "Number of unknown coins 8661\n"
     ]
    },
    {
     "name": "stderr",
     "output_type": "stream",
     "text": [
      "/home/sergey/.local/lib/python3.5/site-packages/pandas/core/generic.py:2773: SettingWithCopyWarning: \n",
      "A value is trying to be set on a copy of a slice from a DataFrame.\n",
      "Try using .loc[row_indexer,col_indexer] = value instead\n",
      "\n",
      "See the caveats in the documentation: http://pandas.pydata.org/pandas-docs/stable/indexing.html#indexing-view-versus-copy\n",
      "  self[name] = value\n"
     ]
    }
   ],
   "source": [
    "unknown_coins = coins[coins.year == 'unknown']\n",
    "date_coins = coins[coins.year != 'unknown']\n",
    "date_coins.year = date_coins.year.astype(int)\n",
    "aft2k = (date_coins.year > 2000).sum()\n",
    "bef2k = (date_coins.year <= 2000).sum()\n",
    "unk_date = unknown_coins.shape[0]\n",
    "\n",
    "share_unk = unk_date / coins.shape[0] \n",
    "print('Share of unknown coins {:.4f}, ratio {:.4f}'.format(share_unk, bef2k / aft2k))\n",
    "print('Number of unknown coins' , int(share_unk * 36033))"
   ]
  },
  {
   "cell_type": "code",
   "execution_count": 15,
   "metadata": {
    "collapsed": false
   },
   "outputs": [
    {
     "name": "stdout",
     "output_type": "stream",
     "text": [
      "Conf int for share (0.2320 - 0.2490)\n"
     ]
    }
   ],
   "source": [
    "low_bound, high_bound = proportion_confint((coins.year == 'unknown').sum(), coins.shape[0], method='wilson')\n",
    "print('Conf int for share ({0:.4f} - {1:.4f})'.format(low_bound, high_bound))"
   ]
  }
 ],
 "metadata": {
  "anaconda-cloud": {},
  "kernelspec": {
   "display_name": "Python [default]",
   "language": "python",
   "name": "python2"
  },
  "language_info": {
   "codemirror_mode": {
    "name": "ipython",
    "version": 2
   },
   "file_extension": ".py",
   "mimetype": "text/x-python",
   "name": "python",
   "nbconvert_exporter": "python",
   "pygments_lexer": "ipython2",
   "version": "2.7.13"
  }
 },
 "nbformat": 4,
 "nbformat_minor": 0
}
